{
 "cells": [
  {
   "cell_type": "code",
   "execution_count": 1,
   "metadata": {
    "ExecuteTime": {
     "end_time": "2019-04-08T00:04:14.192242Z",
     "start_time": "2019-04-08T00:04:13.963588Z"
    }
   },
   "outputs": [],
   "source": [
    "# %load ./toutiao_search.py\n",
    "import requests\n",
    "import json\n",
    "import os,re\n",
    "import logging\n",
    "import random\n",
    "import time\n",
    "import math\n",
    "from mythread import MyThread\n",
    "from threading import Lock\n",
    "\n",
    "lock = Lock()\n",
    "\n",
    "\n",
    "logging.basicConfig(level=logging.INFO,\n",
    "        format=\"%(asctime)s - %(levelname)s - %(filename)s - %(threadName)s - %(lineno)d - %(funcName)s - %(message)s\")\n",
    "\n",
    "def sleep(func):\n",
    "    def wait(*args, **kwargs):\n",
    "        random_num = random.random() * 2\n",
    "        # logging.info('执行函数{}，等待{}秒'.format(func.__name__,random_num))\n",
    "        time.sleep(random_num)\n",
    "        f = func(*args, **kwargs)\n",
    "        return f\n",
    "    return wait\n",
    "\n",
    "class toutiao():\n",
    "\n",
    "    def __init__(self,headers,search,count=5,timeout=2):\n",
    "        self.headers = headers\n",
    "        self.count = count\n",
    "        self.search = search\n",
    "        self.timeout = timeout\n",
    "        \n",
    "    @sleep\n",
    "    def get_url_response(self,offset):\n",
    "        url = 'https://www.toutiao.com/search_content/?'\n",
    "        params = {\n",
    "            'offset':offset,\n",
    "            'format':'json',\n",
    "            'keyword':self.search,\n",
    "            'autoload':'true',\n",
    "            'count':self.count\n",
    "        }\n",
    "\n",
    "        try:\n",
    "            response = requests.get(url=url,params=params,headers=self.headers,timeout=self.timeout)\n",
    "            logging.info(response.url)\n",
    "        except Exception as e:\n",
    "            response = None\n",
    "            logging.error(e)\n",
    "\n",
    "        return response.json()\n",
    "\n",
    "    @sleep\n",
    "    def get_innerpage(self,json):\n",
    "        data = json.get('data')\n",
    "        innerpagelist = []\n",
    "        for i in data:\n",
    "            if i.get('title') and i.get('tag_id'):\n",
    "                title = i.get('title')\n",
    "                innerpage_addr = 'https://www.toutiao.com/a{}'.format(i.get('tag_id'))\n",
    "                innerpage = {\n",
    "                    'title':title,\n",
    "                    'innerpage_addr':innerpage_addr\n",
    "                }\n",
    "                innerpagelist.append(innerpage)\n",
    "\n",
    "        return innerpagelist\n",
    "\n",
    "    @sleep\n",
    "    def get_pic_addr(self,innerpagelist):\n",
    "        picslist = []\n",
    "        for i in innerpagelist:\n",
    "            title = i.get('title')\n",
    "            innerpage_addr = i.get('innerpage_addr')\n",
    "            logging.info('【title】{}，【URL】{}'.format(title,innerpage_addr))\n",
    "\n",
    "            try:\n",
    "                response = requests.get(innerpage_addr,headers=self.headers,timeout=self.timeout)\n",
    "                text = response.text\n",
    "            except Exception as e:\n",
    "                text = None\n",
    "                logging.error(e)\n",
    "\n",
    "            data = re.sub(r'\\\\','',text)\n",
    "            pics_addr_list1 = re.findall(r'\"url\":\"(http.*?)\"',data,re.S) #网页类型1\n",
    "            pics_addr_list2 = re.findall(r'&quot;(http.*?)&quot',data,re.S) #网页类型2\n",
    "            pics_addr_list_temp = list(set(pics_addr_list1 + pics_addr_list2))\n",
    "\n",
    "            pics_addr_list= []\n",
    "            pic_id_list = []\n",
    "            for i in pics_addr_list_temp:\n",
    "                pic_id = re.findall(r'/(\\w*)$',i)\n",
    "                if pic_id not in pic_id_list:\n",
    "                    pic_id_list.append(pic_id)\n",
    "                    pics_addr_list.append(i)\n",
    "\n",
    "            if len(pics_addr_list) != 0:\n",
    "                pics = {\n",
    "                        'title':title,\n",
    "                        'pics_addr':pics_addr_list\n",
    "                    }\n",
    "\n",
    "                picslist.append(pics)\n",
    "            else:\n",
    "                logging.info('没有获取到图片,跳过！【title】{},【URL】{}'.format(title,innerpage_addr))\n",
    "\n",
    "\n",
    "        return picslist\n",
    "\n",
    "    @sleep\n",
    "    def download_one_pic(self,dirpath,title,url,num):\n",
    "        global pic_counts\n",
    "        try:\n",
    "            response = requests.get(url,headers=self.headers,timeout=self.timeout)\n",
    "            content = response.content\n",
    "        \n",
    "            with open(r'{}\\{}.jpg'.format(dirpath,num),'wb') as f:\n",
    "                f.write(content)\n",
    "            pic_counts += 1\n",
    "            logging.info('累计下载{}张，【title】{},第【{}】图，【URL】{}'.format(pic_counts,title,num,url))\n",
    "        except Exception as e:\n",
    "            logging.error(e)\n",
    "        \n",
    "\n",
    "    def download_pics(self,picslist):\n",
    "        resultlist = []\n",
    "        # print(picslist)\n",
    "        path = os.getcwd()\n",
    "        # print(path)\n",
    "        for i in picslist:\n",
    "            # print(i)\n",
    "            title = i.get('title')\n",
    "            title_dir = re.sub('[^\\u4E00-\\u9FA5,:，：]','',title) #标题中只保留中文\n",
    "            image_list = i.get('pics_addr')\n",
    "\n",
    "            dirpath = path + '\\\\' + self.search + '\\\\【' + str(len(image_list)) + '】' + title_dir\n",
    "            if not os.path.exists(dirpath):\n",
    "                os.makedirs(dirpath)\n",
    "            # print(image_list)\n",
    "                #已经存在的就不在下载了，只下载没有的目录\n",
    "                for num,url in enumerate(image_list):\n",
    "                    # lock.acquire()\n",
    "                    self.download_one_pic(dirpath,title,url,num)\n",
    "                    # lock.release()\n",
    "            else:\n",
    "                logging.info('已下载过,【title】{},不再下载'.format(title))\n",
    "                \n",
    "        return resultlist\n",
    "    \n",
    "    def download_pic_once(self,offset):\n",
    "        response_json = self.get_url_response(offset)\n",
    "        innerpagelist = self.get_innerpage(response_json)\n",
    "        picslist = self.get_pic_addr(innerpagelist)\n",
    "        result = self.download_pics(picslist)\n",
    "        return result\n",
    "\n",
    "    def multiple_download_pic(self,offsetlist):\n",
    "        threads = []\n",
    "\n",
    "        for i in offsetlist:\n",
    "            offset = i * self.count\n",
    "            t = MyThread(func=self.download_pic_once,args=(offset,),name=i + 1)\n",
    "            threads.append(t)\n",
    "\n",
    "        for t in threads:\n",
    "            t.start()\n",
    "            \n",
    "        for t in threads:\n",
    "            t.join()\n",
    "\n",
    "\n",
    "# if __name__ == '__main__':\n",
    "#     pic_counts = 0\n",
    "#     offsetlist = [0,1]\n",
    "#     search= input('请输入您想下载的图片关键字(默认古装美女)：')\n",
    "#     if not search:\n",
    "#         search = '古装美女'\n",
    "\n",
    "#     count = input('请输入您想下载的图片数量：')\n",
    "#     try:\n",
    "#         count = abs(int(count))\n",
    "#     except:\n",
    "#         count = 1\n",
    "\n",
    "#     headers = {\n",
    "#             'accept': 'application/json, text/javascript',\n",
    "#             'accept-encoding':'gzip, deflate, br',\n",
    "#             'accept-language':'zh-CN,zh;q=0.9',\n",
    "#             'content-type':'application/x-www-form-urlencoded',\n",
    "#             'referer':'https://www.toutiao.com/search/?keyword=%E8%BD%A6%E6%A8%A1',\n",
    "#             'user-agent':'Mozilla/5.0 (Windows NT 10.0; Win64; x64) AppleWebKit/537.36 (KHTML, like Gecko) Chrome/68.0.3440.106 Safari/537.36',\n",
    "#             'x-requested-with':'XMLHttpRequest'\n",
    "#         }\n",
    "    \n",
    "#     while pic_counts < count:\n",
    "#         tt = toutiao(search=search,headers=headers)\n",
    "#         tt.multiple_download_pic(offsetlist=offsetlist)\n",
    "#         offsetlist = [i + len(offsetlist) for i in offsetlist]\n"
   ]
  },
  {
   "cell_type": "code",
   "execution_count": 2,
   "metadata": {
    "ExecuteTime": {
     "end_time": "2019-04-08T00:04:14.201668Z",
     "start_time": "2019-04-08T00:04:14.195219Z"
    }
   },
   "outputs": [],
   "source": [
    "pic_counts = 0\n",
    "offsetlist = [0,1]\n",
    "search= '古装美女'\n",
    "count = 1\n",
    "headers = {\n",
    "        'accept': 'application/json, text/javascript',\n",
    "        'accept-encoding':'gzip, deflate, br',\n",
    "        'accept-language':'zh-CN,zh;q=0.9',\n",
    "        'content-type':'application/x-www-form-urlencoded',\n",
    "        'referer':'https://www.toutiao.com/search/?keyword=%E8%BD%A6%E6%A8%A1',\n",
    "        'user-agent':'Mozilla/5.0 (Windows NT 10.0; Win64; x64) AppleWebKit/537.36 (KHTML, like Gecko) Chrome/68.0.3440.106 Safari/537.36',\n",
    "        'x-requested-with':'XMLHttpRequest'\n",
    "    }\n",
    "\n",
    "tt = toutiao(search=search,headers=headers)"
   ]
  },
  {
   "cell_type": "code",
   "execution_count": 3,
   "metadata": {
    "ExecuteTime": {
     "end_time": "2019-04-08T00:04:15.243640Z",
     "start_time": "2019-04-08T00:04:14.205140Z"
    }
   },
   "outputs": [
    {
     "name": "stderr",
     "output_type": "stream",
     "text": [
      "2019-04-08 08:04:15,236 - INFO - <ipython-input-1-793dec396d46> - MainThread - 48 - get_url_response - https://www.toutiao.com/search_content/?offset=1&format=json&keyword=%E5%8F%A4%E8%A3%85%E7%BE%8E%E5%A5%B3&autoload=true&count=5\n"
     ]
    }
   ],
   "source": [
    "response = tt.get_url_response(1)"
   ]
  },
  {
   "cell_type": "code",
   "execution_count": 4,
   "metadata": {
    "ExecuteTime": {
     "end_time": "2019-04-08T00:04:15.379815Z",
     "start_time": "2019-04-08T00:04:15.249063Z"
    }
   },
   "outputs": [
    {
     "data": {
      "text/plain": [
       "[]"
      ]
     },
     "execution_count": 4,
     "metadata": {},
     "output_type": "execute_result"
    }
   ],
   "source": [
    "innerpage = tt.get_innerpage(response)\n",
    "innerpage"
   ]
  },
  {
   "cell_type": "code",
   "execution_count": 5,
   "metadata": {
    "ExecuteTime": {
     "end_time": "2019-04-08T00:04:15.628839Z",
     "start_time": "2019-04-08T00:04:15.384778Z"
    }
   },
   "outputs": [],
   "source": [
    "response_inner = requests.get(url='https://www.toutiao.com/a6299228208501096706',headers=headers)"
   ]
  },
  {
   "cell_type": "code",
   "execution_count": 6,
   "metadata": {
    "ExecuteTime": {
     "end_time": "2019-04-08T00:04:15.640713Z",
     "start_time": "2019-04-08T00:04:15.631289Z"
    }
   },
   "outputs": [
    {
     "data": {
      "text/plain": [
       "'<!DOCTYPE html><html><head><meta charset=utf-8><title>荷香-古装美女</title><meta http-equiv=x-dns-prefetch-control content=on><link rel=dns-prefetch href=//s3.pstatp.com/ ><link rel=dns-prefetch href=//s3a.pstatp.com/ ><link rel=dns-prefetch href=//s3b.pstatp.com><link rel=dns-prefetch href=//p1.pstatp.com/ ><link rel=dns-prefetch href=//p3.pstatp.com/ ><meta http-equiv=Content-Type content=\"text/html; charset=utf-8\"><meta http-equiv=X-UA-Compatible content=\"IE=edge,chrome=1\"><meta name=viewport content=\"width=device-width,initial-scale=1,maximum-scale=1,minimum-scale=1,user-scalable=no,minimal-ui\"><meta name=360-site-verification content=b96e1758dfc9156a410a4fb9520c5956><meta name=360_ssp_verify content=2ae4ad39552c45425bddb738efda3dbb><meta name=google-site-verification content=3PYTTW0s7IAfkReV8wAECfjIdKY-bQeSkVTyJNZpBKE><meta name=shenma-site-verification content=34c05607e2a9430ad4249ed48faaf7cb_1432711730><meta name=baidu_union_verify content=b88dd3920f970845bad8ad9f90d687f7><meta name=domain_verify content=pmrgi33nmfuw4ir2ej2g65lunfqw6ltdn5wselbcm52wszbchirdqyztge3tenrsgq3dknjume2tayrvmqytemlfmiydimddgu4gcnzcfqrhi2lnmvjwc5tfei5dcnbwhazdcobuhe2dqobrpu><link rel=\"shortcut icon\" href=//s3a.pstatp.com/toutiao/resource/ntoutiao_web/static/image/favicon_5995b44.ico type=image/x-icon><!--[if lt IE 9]>\\n  <p>您的浏览器版本过低，请<a href=\"http://browsehappy.com/\">升级浏览器</a></p>\\n<![endif]--><script src=\"//s3.pstatp.com/toutiao/monitor/sdk/slardar.js?ver=20171221_1\" crossorigin=anonymous></script><script>window.Slardar && window.Slardar.install({\\n    sampleRate: 1,\\n    bid: \\'toutiao_pc\\',\\n    pid: \\'image_detail_new\\',\\n    ignoreAjax: [/\\\\/action_log\\\\//],\\n    ignoreStatic: [/\\\\.tanx\\\\.com\\\\//, /\\\\.alicdn\\\\.com\\\\//, /\\\\.mediav\\\\.com/]\\n  });</script><meta name=pathname content=toutiao_pc_image_detail_new><meta name=keywords content=今日头条，头条，头条网，头条新闻，今日头条官网><meta name=description content=《今日头条》(www.toutiao.com)是一款基于数据挖掘的推荐引擎产品，它为用户推荐有价值的、个性化的信息，提供连接人与信息的新型服务，是国内移动互联网领域成长最快的产品服务之一。><link rel=stylesheet href=//s3b.pstatp.com/toutiao/static/css/page/index_node/index.8b48d1a4c3755dc87013acbbf1b28182.css><script>!function(e){function t(a){if(o[a])return o[a].exports;var r=o[a]={exports:{},id:a,loaded:!1};return e[a].call(r.exports,r,r.exports,t),r.loaded=!0,r.exports}var a=window.webpackJsonp;window.webpackJsonp=function(n,p){for(var c,s,l=0,i=[];l<n.length;l++)s=n[l],r[s]&&i.push.apply(i,r[s]),r[s]=0;for(c in p)Object.prototype.hasOwnProperty.call(p,c)&&(e[c]=p[c]);for(a&&a(n,p);i.length;)i.shift().call(null,t);if(p[0])return o[0]=0,t(0)};var o={},r={0:0};t.e=function(e,a){if(0===r[e])return a.call(null,t);if(void 0!==r[e])r[e].push(a);else{r[e]=[a];var o=document.getElementsByTagName(\"head\")[0],n=document.createElement(\"script\");n.type=\"text/javascript\",n.charset=\"utf-8\",n.async=!0,n.src=t.p+\"static/js/\"+e+\".\"+{1:\"134e79204c8c9a21bd21\",2:\"e76f6b7b1e776eb200fe\",3:\"796b82f14773cdf88a19\",4:\"80a93b04852050a9996f\"}[e]+\".js\",o.appendChild(n)}},t.m=e,t.c=o,t.p=\"/toutiao/\",t.p=\"//s3.pstatp.com/toutiao/\"}([]);</script></head><body><div id=app></div><script src=//s3.pstatp.com/inapp/lib/raven.js crossorigin=anonymous></script><script>;(function(window) {\\n    // sentry\\n    window.Raven && Raven.config(\\'//key@m.toutiao.com/log/sentry/v2/96\\', {\\n      whitelistUrls: [/pstatp\\\\.com/],\\n      sampleRate: 1,\\n      shouldSendCallback: function(data) {\\n        var ua = navigator && navigator.userAgent;\\n        var isDeviceOK = !/Mobile|Linux/i.test(navigator.userAgent);\\n        if (data.message && data.message.indexOf(\\'p.tanx.com\\') !== -1) {\\n          return false;\\n        }\\n        return isDeviceOK;\\n      },\\n      tags: {\\n        bid: \\'toutiao_pc\\',\\n        pid: \\'image_detail_new\\'\\n      },\\n      autoBreadcrumbs: {\\n        \\'xhr\\': false,\\n        \\'console\\': true,\\n        \\'dom\\': true,\\n        \\'location\\': true\\n      }\\n    }).install();\\n  })(window);</script><script>var PAGE_SWITCH = {\"adScriptQihu\":true,\"adScriptTB\":true,\"anti_spam\":false,\"migScriptUrl\":\"//s3a.pstatp.com/toutiao/picc_mig/dist/img.min.js\",\"nineteen\":\"\",\"picVersion\":\"20180412_01\",\"qihuAdShow\":true,\"taVersion\":\"20171221_1\",\"ttAdShow\":true};</script><script>var BASE_DATA = {\\n    headerInfo: {\\n      id: 0,\\n      isPgc: false,\\n      userName: \\'\\',\\n      avatarUrl: \\'\\',\\n      isHomePage: false,\\n      chineseTag: \\'图片\\',\\n      crumbTag: \\'ch/news_image/\\',\\n      hasBar: true\\n    },\\n    mediaInfo: {\\n      name: \\'\\',\\n      avatarUrl: \\'\\',\\n      openUrl: \\'\\',\\n      user_id: \\'0\\',\\n      like: false\\n    },\\n    userInfo: {\\n      id: 0,\\n      name: \\'\\',\\n      avatarUrl: \\'\\',\\n      isPgc: false,\\n      isOwner: false\\n    },\\n    commentInfo: {\\n      group_id: \\'6299228208501096706\\',\\n      item_id: \\'6298685250348253697\\',\\n      comments_count: 33,\\n      ban_comment: 0\\n    }\\n  }\\n\\n  BASE_DATA.galleryInfo = {\\n    title: \\'荷香-古装美女\\',\\n    isOriginal: false,\\n    mediaInfo: BASE_DATA.mediaInfo,\\n    gallery: JSON.parse(\"{\\\\\"count\\\\\":17,\\\\\"sub_images\\\\\":[{\\\\\"url\\\\\":\\\\\"http:\\\\\\\\/\\\\\\\\/p1.pstatp.com\\\\\\\\/origin\\\\\\\\/7fd00081250ad3c32da\\\\\",\\\\\"width\\\\\":682,\\\\\"url_list\\\\\":[{\\\\\"url\\\\\":\\\\\"http:\\\\\\\\/\\\\\\\\/p1.pstatp.com\\\\\\\\/origin\\\\\\\\/7fd00081250ad3c32da\\\\\"},{\\\\\"url\\\\\":\\\\\"http:\\\\\\\\/\\\\\\\\/pb3.pstatp.com\\\\\\\\/origin\\\\\\\\/7fd00081250ad3c32da\\\\\"},{\\\\\"url\\\\\":\\\\\"http:\\\\\\\\/\\\\\\\\/pb9.pstatp.com\\\\\\\\/origin\\\\\\\\/7fd00081250ad3c32da\\\\\"}],\\\\\"uri\\\\\":\\\\\"origin\\\\\\\\/7fd00081250ad3c32da\\\\\",\\\\\"height\\\\\":1024},{\\\\\"url\\\\\":\\\\\"http:\\\\\\\\/\\\\\\\\/p9.pstatp.com\\\\\\\\/origin\\\\\\\\/7fa00080dd59ae8e200\\\\\",\\\\\"width\\\\\":500,\\\\\"url_list\\\\\":[{\\\\\"url\\\\\":\\\\\"http:\\\\\\\\/\\\\\\\\/p9.pstatp.com\\\\\\\\/origin\\\\\\\\/7fa00080dd59ae8e200\\\\\"},{\\\\\"url\\\\\":\\\\\"http:\\\\\\\\/\\\\\\\\/pb1.pstatp.com\\\\\\\\/origin\\\\\\\\/7fa00080dd59ae8e200\\\\\"},{\\\\\"url\\\\\":\\\\\"http:\\\\\\\\/\\\\\\\\/pb3.pstatp.com\\\\\\\\/origin\\\\\\\\/7fa00080dd59ae8e200\\\\\"}],\\\\\"uri\\\\\":\\\\\"origin\\\\\\\\/7fa00080dd59ae8e200\\\\\",\\\\\"height\\\\\":750},{\\\\\"url\\\\\":\\\\\"http:\\\\\\\\/\\\\\\\\/p1.pstatp.com\\\\\\\\/origin\\\\\\\\/7fa00080dd743c490a5\\\\\",\\\\\"width\\\\\":500,\\\\\"url_list\\\\\":[{\\\\\"url\\\\\":\\\\\"http:\\\\\\\\/\\\\\\\\/p1.pstatp.com\\\\\\\\/origin\\\\\\\\/7fa00080dd743c490a5\\\\\"},{\\\\\"url\\\\\":\\\\\"http:\\\\\\\\/\\\\\\\\/pb3.pstatp.com\\\\\\\\/origin\\\\\\\\/7fa00080dd743c490a5\\\\\"},{\\\\\"url\\\\\":\\\\\"http:\\\\\\\\/\\\\\\\\/pb9.pstatp.com\\\\\\\\/origin\\\\\\\\/7fa00080dd743c490a5\\\\\"}],\\\\\"uri\\\\\":\\\\\"origin\\\\\\\\/7fa00080dd743c490a5\\\\\",\\\\\"height\\\\\":750},{\\\\\"url\\\\\":\\\\\"http:\\\\\\\\/\\\\\\\\/p1.pstatp.com\\\\\\\\/origin\\\\\\\\/7fc0008132f5bb01b0e\\\\\",\\\\\"width\\\\\":750,\\\\\"url_list\\\\\":[{\\\\\"url\\\\\":\\\\\"http:\\\\\\\\/\\\\\\\\/p1.pstatp.com\\\\\\\\/origin\\\\\\\\/7fc0008132f5bb01b0e\\\\\"},{\\\\\"url\\\\\":\\\\\"http:\\\\\\\\/\\\\\\\\/pb3.pstatp.com\\\\\\\\/origin\\\\\\\\/7fc0008132f5bb01b0e\\\\\"},{\\\\\"url\\\\\":\\\\\"http:\\\\\\\\/\\\\\\\\/pb9.pstatp.com\\\\\\\\/origin\\\\\\\\/7fc0008132f5bb01b0e\\\\\"}],\\\\\"uri\\\\\":\\\\\"origin\\\\\\\\/7fc0008132f5bb01b0e\\\\\",\\\\\"height\\\\\":500},{\\\\\"url\\\\\":\\\\\"http:\\\\\\\\/\\\\\\\\/p1.pstatp.com\\\\\\\\/origin\\\\\\\\/7fb000811bf709ad68f\\\\\",\\\\\"width\\\\\":500,\\\\\"url_list\\\\\":[{\\\\\"url\\\\\":\\\\\"http:\\\\\\\\/\\\\\\\\/p1.pstatp.com\\\\\\\\/origin\\\\\\\\/7fb000811bf709ad68f\\\\\"},{\\\\\"url\\\\\":\\\\\"http:\\\\\\\\/\\\\\\\\/pb3.pstatp.com\\\\\\\\/origin\\\\\\\\/7fb000811bf709ad68f\\\\\"},{\\\\\"url\\\\\":\\\\\"http:\\\\\\\\/\\\\\\\\/pb9.pstatp.com\\\\\\\\/origin\\\\\\\\/7fb000811bf709ad68f\\\\\"}],\\\\\"uri\\\\\":\\\\\"origin\\\\\\\\/7fb000811bf709ad68f\\\\\",\\\\\"height\\\\\":750},{\\\\\"url\\\\\":\\\\\"http:\\\\\\\\/\\\\\\\\/p1.pstatp.com\\\\\\\\/origin\\\\\\\\/7f900080def8dc8876f\\\\\",\\\\\"width\\\\\":750,\\\\\"url_list\\\\\":[{\\\\\"url\\\\\":\\\\\"http:\\\\\\\\/\\\\\\\\/p1.pstatp.com\\\\\\\\/origin\\\\\\\\/7f900080def8dc8876f\\\\\"},{\\\\\"url\\\\\":\\\\\"http:\\\\\\\\/\\\\\\\\/pb3.pstatp.com\\\\\\\\/origin\\\\\\\\/7f900080def8dc8876f\\\\\"},{\\\\\"url\\\\\":\\\\\"http:\\\\\\\\/\\\\\\\\/pb9.pstatp.com\\\\\\\\/origin\\\\\\\\/7f900080def8dc8876f\\\\\"}],\\\\\"uri\\\\\":\\\\\"origin\\\\\\\\/7f900080def8dc8876f\\\\\",\\\\\"height\\\\\":382},{\\\\\"url\\\\\":\\\\\"http:\\\\\\\\/\\\\\\\\/p3.pstatp.com\\\\\\\\/origin\\\\\\\\/7fc00081333860334c4\\\\\",\\\\\"width\\\\\":500,\\\\\"url_list\\\\\":[{\\\\\"url\\\\\":\\\\\"http:\\\\\\\\/\\\\\\\\/p3.pstatp.com\\\\\\\\/origin\\\\\\\\/7fc00081333860334c4\\\\\"},{\\\\\"url\\\\\":\\\\\"http:\\\\\\\\/\\\\\\\\/pb9.pstatp.com\\\\\\\\/origin\\\\\\\\/7fc00081333860334c4\\\\\"},{\\\\\"url\\\\\":\\\\\"http:\\\\\\\\/\\\\\\\\/pb1.pstatp.com\\\\\\\\/origin\\\\\\\\/7fc00081333860334c4\\\\\"}],\\\\\"uri\\\\\":\\\\\"origin\\\\\\\\/7fc00081333860334c4\\\\\",\\\\\"height\\\\\":750},{\\\\\"url\\\\\":\\\\\"http:\\\\\\\\/\\\\\\\\/p3.pstatp.com\\\\\\\\/origin\\\\\\\\/7f900080df04088ecaa\\\\\",\\\\\"width\\\\\":500,\\\\\"url_list\\\\\":[{\\\\\"url\\\\\":\\\\\"http:\\\\\\\\/\\\\\\\\/p3.pstatp.com\\\\\\\\/origin\\\\\\\\/7f900080df04088ecaa\\\\\"},{\\\\\"url\\\\\":\\\\\"http:\\\\\\\\/\\\\\\\\/pb9.pstatp.com\\\\\\\\/origin\\\\\\\\/7f900080df04088ecaa\\\\\"},{\\\\\"url\\\\\":\\\\\"http:\\\\\\\\/\\\\\\\\/pb1.pstatp.com\\\\\\\\/origin\\\\\\\\/7f900080df04088ecaa\\\\\"}],\\\\\"uri\\\\\":\\\\\"origin\\\\\\\\/7f900080df04088ecaa\\\\\",\\\\\"height\\\\\":750},{\\\\\"url\\\\\":\\\\\"http:\\\\\\\\/\\\\\\\\/p1.pstatp.com\\\\\\\\/origin\\\\\\\\/7fb000811c28a04fff1\\\\\",\\\\\"width\\\\\":500,\\\\\"url_list\\\\\":[{\\\\\"url\\\\\":\\\\\"http:\\\\\\\\/\\\\\\\\/p1.pstatp.com\\\\\\\\/origin\\\\\\\\/7fb000811c28a04fff1\\\\\"},{\\\\\"url\\\\\":\\\\\"http:\\\\\\\\/\\\\\\\\/pb3.pstatp.com\\\\\\\\/origin\\\\\\\\/7fb000811c28a04fff1\\\\\"},{\\\\\"url\\\\\":\\\\\"http:\\\\\\\\/\\\\\\\\/pb9.pstatp.com\\\\\\\\/origin\\\\\\\\/7fb000811c28a04fff1\\\\\"}],\\\\\"uri\\\\\":\\\\\"origin\\\\\\\\/7fb000811c28a04fff1\\\\\",\\\\\"height\\\\\":750},{\\\\\"url\\\\\":\\\\\"http:\\\\\\\\/\\\\\\\\/p1.pstatp.com\\\\\\\\/origin\\\\\\\\/7fd000812543c5cf2d5\\\\\",\\\\\"width\\\\\":500,\\\\\"url_list\\\\\":[{\\\\\"url\\\\\":\\\\\"http:\\\\\\\\/\\\\\\\\/p1.pstatp.com\\\\\\\\/origin\\\\\\\\/7fd000812543c5cf2d5\\\\\"},{\\\\\"url\\\\\":\\\\\"http:\\\\\\\\/\\\\\\\\/pb3.pstatp.com\\\\\\\\/origin\\\\\\\\/7fd000812543c5cf2d5\\\\\"},{\\\\\"url\\\\\":\\\\\"http:\\\\\\\\/\\\\\\\\/pb9.pstatp.com\\\\\\\\/origin\\\\\\\\/7fd000812543c5cf2d5\\\\\"}],\\\\\"uri\\\\\":\\\\\"origin\\\\\\\\/7fd000812543c5cf2d5\\\\\",\\\\\"height\\\\\":750},{\\\\\"url\\\\\":\\\\\"http:\\\\\\\\/\\\\\\\\/p9.pstatp.com\\\\\\\\/origin\\\\\\\\/7fa00080dde27dec44f\\\\\",\\\\\"width\\\\\":500,\\\\\"url_list\\\\\":[{\\\\\"url\\\\\":\\\\\"http:\\\\\\\\/\\\\\\\\/p9.pstatp.com\\\\\\\\/origin\\\\\\\\/7fa00080dde27dec44f\\\\\"},{\\\\\"url\\\\\":\\\\\"http:\\\\\\\\/\\\\\\\\/pb1.pstatp.com\\\\\\\\/origin\\\\\\\\/7fa00080dde27dec44f\\\\\"},{\\\\\"url\\\\\":\\\\\"http:\\\\\\\\/\\\\\\\\/pb3.pstatp.com\\\\\\\\/origin\\\\\\\\/7fa00080dde27dec44f\\\\\"}],\\\\\"uri\\\\\":\\\\\"origin\\\\\\\\/7fa00080dde27dec44f\\\\\",\\\\\"height\\\\\":750},{\\\\\"url\\\\\":\\\\\"http:\\\\\\\\/\\\\\\\\/p1.pstatp.com\\\\\\\\/origin\\\\\\\\/7fa00080ddf5efd45b8\\\\\",\\\\\"width\\\\\":500,\\\\\"url_list\\\\\":[{\\\\\"url\\\\\":\\\\\"http:\\\\\\\\/\\\\\\\\/p1.pstatp.com\\\\\\\\/origin\\\\\\\\/7fa00080ddf5efd45b8\\\\\"},{\\\\\"url\\\\\":\\\\\"http:\\\\\\\\/\\\\\\\\/pb3.pstatp.com\\\\\\\\/origin\\\\\\\\/7fa00080ddf5efd45b8\\\\\"},{\\\\\"url\\\\\":\\\\\"http:\\\\\\\\/\\\\\\\\/pb9.pstatp.com\\\\\\\\/origin\\\\\\\\/7fa00080ddf5efd45b8\\\\\"}],\\\\\"uri\\\\\":\\\\\"origin\\\\\\\\/7fa00080ddf5efd45b8\\\\\",\\\\\"height\\\\\":750},{\\\\\"url\\\\\":\\\\\"http:\\\\\\\\/\\\\\\\\/p1.pstatp.com\\\\\\\\/origin\\\\\\\\/7f900080df2ebf54c8a\\\\\",\\\\\"width\\\\\":750,\\\\\"url_list\\\\\":[{\\\\\"url\\\\\":\\\\\"http:\\\\\\\\/\\\\\\\\/p1.pstatp.com\\\\\\\\/origin\\\\\\\\/7f900080df2ebf54c8a\\\\\"},{\\\\\"url\\\\\":\\\\\"http:\\\\\\\\/\\\\\\\\/pb3.pstatp.com\\\\\\\\/origin\\\\\\\\/7f900080df2ebf54c8a\\\\\"},{\\\\\"url\\\\\":\\\\\"http:\\\\\\\\/\\\\\\\\/pb9.pstatp.com\\\\\\\\/origin\\\\\\\\/7f900080df2ebf54c8a\\\\\"}],\\\\\"uri\\\\\":\\\\\"origin\\\\\\\\/7f900080df2ebf54c8a\\\\\",\\\\\"height\\\\\":500},{\\\\\"url\\\\\":\\\\\"http:\\\\\\\\/\\\\\\\\/p1.pstatp.com\\\\\\\\/origin\\\\\\\\/7fd0008125677a49192\\\\\",\\\\\"width\\\\\":500,\\\\\"url_list\\\\\":[{\\\\\"url\\\\\":\\\\\"http:\\\\\\\\/\\\\\\\\/p1.pstatp.com\\\\\\\\/origin\\\\\\\\/7fd0008125677a49192\\\\\"},{\\\\\"url\\\\\":\\\\\"http:\\\\\\\\/\\\\\\\\/pb3.pstatp.com\\\\\\\\/origin\\\\\\\\/7fd0008125677a49192\\\\\"},{\\\\\"url\\\\\":\\\\\"http:\\\\\\\\/\\\\\\\\/pb9.pstatp.com\\\\\\\\/origin\\\\\\\\/7fd0008125677a49192\\\\\"}],\\\\\"uri\\\\\":\\\\\"origin\\\\\\\\/7fd0008125677a49192\\\\\",\\\\\"height\\\\\":750},{\\\\\"url\\\\\":\\\\\"http:\\\\\\\\/\\\\\\\\/p1.pstatp.com\\\\\\\\/origin\\\\\\\\/7fc00081334371a3a54\\\\\",\\\\\"width\\\\\":750,\\\\\"url_list\\\\\":[{\\\\\"url\\\\\":\\\\\"http:\\\\\\\\/\\\\\\\\/p1.pstatp.com\\\\\\\\/origin\\\\\\\\/7fc00081334371a3a54\\\\\"},{\\\\\"url\\\\\":\\\\\"http:\\\\\\\\/\\\\\\\\/pb3.pstatp.com\\\\\\\\/origin\\\\\\\\/7fc00081334371a3a54\\\\\"},{\\\\\"url\\\\\":\\\\\"http:\\\\\\\\/\\\\\\\\/pb9.pstatp.com\\\\\\\\/origin\\\\\\\\/7fc00081334371a3a54\\\\\"}],\\\\\"uri\\\\\":\\\\\"origin\\\\\\\\/7fc00081334371a3a54\\\\\",\\\\\"height\\\\\":500},{\\\\\"url\\\\\":\\\\\"http:\\\\\\\\/\\\\\\\\/p9.pstatp.com\\\\\\\\/origin\\\\\\\\/7fa00080de2576387bb\\\\\",\\\\\"width\\\\\":750,\\\\\"url_list\\\\\":[{\\\\\"url\\\\\":\\\\\"http:\\\\\\\\/\\\\\\\\/p9.pstatp.com\\\\\\\\/origin\\\\\\\\/7fa00080de2576387bb\\\\\"},{\\\\\"url\\\\\":\\\\\"http:\\\\\\\\/\\\\\\\\/pb1.pstatp.com\\\\\\\\/origin\\\\\\\\/7fa00080de2576387bb\\\\\"},{\\\\\"url\\\\\":\\\\\"http:\\\\\\\\/\\\\\\\\/pb3.pstatp.com\\\\\\\\/origin\\\\\\\\/7fa00080de2576387bb\\\\\"}],\\\\\"uri\\\\\":\\\\\"origin\\\\\\\\/7fa00080de2576387bb\\\\\",\\\\\"height\\\\\":500},{\\\\\"url\\\\\":\\\\\"http:\\\\\\\\/\\\\\\\\/p9.pstatp.com\\\\\\\\/origin\\\\\\\\/7fa00080de34f2ee6f0\\\\\",\\\\\"width\\\\\":750,\\\\\"url_list\\\\\":[{\\\\\"url\\\\\":\\\\\"http:\\\\\\\\/\\\\\\\\/p9.pstatp.com\\\\\\\\/origin\\\\\\\\/7fa00080de34f2ee6f0\\\\\"},{\\\\\"url\\\\\":\\\\\"http:\\\\\\\\/\\\\\\\\/pb1.pstatp.com\\\\\\\\/origin\\\\\\\\/7fa00080de34f2ee6f0\\\\\"},{\\\\\"url\\\\\":\\\\\"http:\\\\\\\\/\\\\\\\\/pb3.pstatp.com\\\\\\\\/origin\\\\\\\\/7fa00080de34f2ee6f0\\\\\"}],\\\\\"uri\\\\\":\\\\\"origin\\\\\\\\/7fa00080de34f2ee6f0\\\\\",\\\\\"height\\\\\":500}],\\\\\"max_img_width\\\\\":750,\\\\\"labels\\\\\":[\\\\\"\\\\\\\\u7f8e\\\\\\\\u5973\\\\\"],\\\\\"sub_abstracts\\\\\":[\\\\\" \\\\\",\\\\\" \\\\\",\\\\\" \\\\\",\\\\\" \\\\\",\\\\\" \\\\\",\\\\\" \\\\\",\\\\\" \\\\\",\\\\\" \\\\\",\\\\\" \\\\\",\\\\\" \\\\\",\\\\\" \\\\\",\\\\\" \\\\\",\\\\\" \\\\\",\\\\\" \\\\\",\\\\\" \\\\\",\\\\\" \\\\\",\\\\\" \\\\\"],\\\\\"sub_titles\\\\\":[\\\\\"\\\\\\\\u8377\\\\\\\\u9999-\\\\\\\\u53e4\\\\\\\\u88c5\\\\\\\\u7f8e\\\\\\\\u5973\\\\\",\\\\\"\\\\\\\\u8377\\\\\\\\u9999-\\\\\\\\u53e4\\\\\\\\u88c5\\\\\\\\u7f8e\\\\\\\\u5973\\\\\",\\\\\"\\\\\\\\u8377\\\\\\\\u9999-\\\\\\\\u53e4\\\\\\\\u88c5\\\\\\\\u7f8e\\\\\\\\u5973\\\\\",\\\\\"\\\\\\\\u8377\\\\\\\\u9999-\\\\\\\\u53e4\\\\\\\\u88c5\\\\\\\\u7f8e\\\\\\\\u5973\\\\\",\\\\\"\\\\\\\\u8377\\\\\\\\u9999-\\\\\\\\u53e4\\\\\\\\u88c5\\\\\\\\u7f8e\\\\\\\\u5973\\\\\",\\\\\"\\\\\\\\u8377\\\\\\\\u9999-\\\\\\\\u53e4\\\\\\\\u88c5\\\\\\\\u7f8e\\\\\\\\u5973\\\\\",\\\\\"\\\\\\\\u8377\\\\\\\\u9999-\\\\\\\\u53e4\\\\\\\\u88c5\\\\\\\\u7f8e\\\\\\\\u5973\\\\\",\\\\\"\\\\\\\\u8377\\\\\\\\u9999-\\\\\\\\u53e4\\\\\\\\u88c5\\\\\\\\u7f8e\\\\\\\\u5973\\\\\",\\\\\"\\\\\\\\u8377\\\\\\\\u9999-\\\\\\\\u53e4\\\\\\\\u88c5\\\\\\\\u7f8e\\\\\\\\u5973\\\\\",\\\\\"\\\\\\\\u8377\\\\\\\\u9999-\\\\\\\\u53e4\\\\\\\\u88c5\\\\\\\\u7f8e\\\\\\\\u5973\\\\\",\\\\\"\\\\\\\\u8377\\\\\\\\u9999-\\\\\\\\u53e4\\\\\\\\u88c5\\\\\\\\u7f8e\\\\\\\\u5973\\\\\",\\\\\"\\\\\\\\u8377\\\\\\\\u9999-\\\\\\\\u53e4\\\\\\\\u88c5\\\\\\\\u7f8e\\\\\\\\u5973\\\\\",\\\\\"\\\\\\\\u8377\\\\\\\\u9999-\\\\\\\\u53e4\\\\\\\\u88c5\\\\\\\\u7f8e\\\\\\\\u5973\\\\\",\\\\\"\\\\\\\\u8377\\\\\\\\u9999-\\\\\\\\u53e4\\\\\\\\u88c5\\\\\\\\u7f8e\\\\\\\\u5973\\\\\",\\\\\"\\\\\\\\u8377\\\\\\\\u9999-\\\\\\\\u53e4\\\\\\\\u88c5\\\\\\\\u7f8e\\\\\\\\u5973\\\\\",\\\\\"\\\\\\\\u8377\\\\\\\\u9999-\\\\\\\\u53e4\\\\\\\\u88c5\\\\\\\\u7f8e\\\\\\\\u5973\\\\\",\\\\\"\\\\\\\\u8377\\\\\\\\u9999-\\\\\\\\u53e4\\\\\\\\u88c5\\\\\\\\u7f8e\\\\\\\\u5973\\\\\"]}\"),\\n    siblingList: [],\\n    publish_time: \\'2016-06-23 11:58:47\\',\\n    group_id: \\'6299228208501096706\\',\\n    item_id: \\'6298685250348253697\\',\\n    share_url: \\'https://m.toutiao.com/group/6299228208501096706/\\',\\n    abstract: \\'\\'.replace(/<br \\\\/>/ig, \\'\\'),\\n    repin: 0\\n  }</script><script>var imgUrl = \\'/c/sbc57dd1k5pzb2t7epmnpdmb6sd26a2qq60yutzt740v7w74z8ukabr71yio/\\'</script><script>tac=\\'i)6a0lj2w09s!i#sq7s\"0,<8~z|\\\\x7f@QGNCJF[\\\\\\\\^D\\\\\\\\KFYSk~^WSZhg,(lfi~ah`{md\"inb|1d<,%Dscafgd\"in,8[xtm}nLzNEGQMKAdGG^NTY\\\\x1ckgd\"inb<b|1d<g,&TboLr{m,(\\\\x02)!jx-2n&vr$testxg,%@tug{mn ,%vrfkbm[!cb|\\'</script><script type=text/javascript crossorigin=anonymous src=//s3a.pstatp.com/toutiao/static/js/vendor.134e79204c8c9a21bd21.js></script><script type=text/javascript crossorigin=anonymous src=//s3b.pstatp.com/toutiao/static/js/page/index_node/index.e76f6b7b1e776eb200fe.js></script><script type=text/javascript crossorigin=anonymous src=//s3.pstatp.com/toutiao/static/js/ttstatistics.80a93b04852050a9996f.js></script><style>a[href*=\\'//www.cnzz.com/stat\\'] {\\n      display: none!important;\\n  }</style><script src=\"//s95.cnzz.com/z_stat.php?id=1259612802&web_id=1259612802\" language=JavaScript></script><script>if (window.ttAnalysis) {\\n    ttAnalysis.setup({\\n      c: \\'detail_gallery\\'\\n    });\\n    ttAnalysis.send(\\'pageview\\', {});\\n  }</script><script>document.getElementsByTagName(\\'body\\')[0].addEventListener(\\'click\\', function(e) {\\n    var target = e.target,\\n        ga_event,\\n        ga_category,\\n        ga_label,\\n        ga_value;\\n    while(target && target.nodeName.toUpperCase() !== \\'BODY\\') {\\n      ga_event = target.getAttribute(\\'ga_event\\');\\n      ga_category = target.getAttribute(\\'ga_category\\') || \\'detail_gallery\\';\\n      ga_label = target.getAttribute(\\'ga_label\\') || \\'\\';\\n      ga_value = target.getAttribute(\\'ga_value\\') || 1;\\n      ga_event && window._czc && _czc.push(\\ufeff[\"_trackEvent\", ga_category, ga_event, ga_label, ga_value]);\\n      ga_event && window.ttAnalysis && ttAnalysis.send(\\'event\\', { ev: ga_event });\\n      target = target.parentNode;\\n    }\\n});</script></body></html>'"
      ]
     },
     "execution_count": 6,
     "metadata": {},
     "output_type": "execute_result"
    }
   ],
   "source": [
    "response_inner.text"
   ]
  },
  {
   "cell_type": "code",
   "execution_count": 7,
   "metadata": {
    "ExecuteTime": {
     "end_time": "2019-04-08T00:04:15.661048Z",
     "start_time": "2019-04-08T00:04:15.642697Z"
    }
   },
   "outputs": [],
   "source": [
    "from lxml import etree"
   ]
  },
  {
   "cell_type": "code",
   "execution_count": 8,
   "metadata": {
    "ExecuteTime": {
     "end_time": "2019-04-08T00:04:15.687832Z",
     "start_time": "2019-04-08T00:04:15.663527Z"
    }
   },
   "outputs": [],
   "source": [
    "html = etree.HTML(response_inner.text)"
   ]
  },
  {
   "cell_type": "code",
   "execution_count": 9,
   "metadata": {
    "ExecuteTime": {
     "end_time": "2019-04-08T00:04:15.740903Z",
     "start_time": "2019-04-08T00:04:15.689320Z"
    }
   },
   "outputs": [
    {
     "name": "stdout",
     "output_type": "stream",
     "text": [
      "<html><head><meta charset=\"utf-8\"/><title>荷香-古装美女</title><meta http-equiv=\"x-dns-prefetch-control\" content=\"on\"/><link rel=\"dns-prefetch\" href=\"//s3.pstatp.com/\"/><link rel=\"dns-prefetch\" href=\"//s3a.pstatp.com/\"/><link rel=\"dns-prefetch\" href=\"//s3b.pstatp.com\"/><link rel=\"dns-prefetch\" href=\"//p1.pstatp.com/\"/><link rel=\"dns-prefetch\" href=\"//p3.pstatp.com/\"/><meta http-equiv=\"Content-Type\" content=\"text/html; charset=utf-8\"/><meta http-equiv=\"X-UA-Compatible\" content=\"IE=edge,chrome=1\"/><meta name=\"viewport\" content=\"width=device-width,initial-scale=1,maximum-scale=1,minimum-scale=1,user-scalable=no,minimal-ui\"/><meta name=\"360-site-verification\" content=\"b96e1758dfc9156a410a4fb9520c5956\"/><meta name=\"360_ssp_verify\" content=\"2ae4ad39552c45425bddb738efda3dbb\"/><meta name=\"google-site-verification\" content=\"3PYTTW0s7IAfkReV8wAECfjIdKY-bQeSkVTyJNZpBKE\"/><meta name=\"shenma-site-verification\" content=\"34c05607e2a9430ad4249ed48faaf7cb_1432711730\"/><meta name=\"baidu_union_verify\" content=\"b88dd3920f970845bad8ad9f90d687f7\"/><meta name=\"domain_verify\" content=\"pmrgi33nmfuw4ir2ej2g65lunfqw6ltdn5wselbcm52wszbchirdqyztge3tenrsgq3dknjume2tayrvmqytemlfmiydimddgu4gcnzcfqrhi2lnmvjwc5tfei5dcnbwhazdcobuhe2dqobrpu\"/><link rel=\"shortcut icon\" href=\"//s3a.pstatp.com/toutiao/resource/ntoutiao_web/static/image/favicon_5995b44.ico\" type=\"image/x-icon\"/><!--[if lt IE 9]>\n",
      "  <p>您的浏览器版本过低，请<a href=\"http://browsehappy.com/\">升级浏览器</a></p>\n",
      "<![endif]--><script src=\"//s3.pstatp.com/toutiao/monitor/sdk/slardar.js?ver=20171221_1\" crossorigin=\"anonymous\"/><script>window.Slardar &amp;&amp; window.Slardar.install({\n",
      "    sampleRate: 1,\n",
      "    bid: 'toutiao_pc',\n",
      "    pid: 'image_detail_new',\n",
      "    ignoreAjax: [/\\/action_log\\//],\n",
      "    ignoreStatic: [/\\.tanx\\.com\\//, /\\.alicdn\\.com\\//, /\\.mediav\\.com/]\n",
      "  });</script><meta name=\"pathname\" content=\"toutiao_pc_image_detail_new\"/><meta name=\"keywords\" content=\"今日头条，头条，头条网，头条新闻，今日头条官网\"/><meta name=\"description\" content=\"《今日头条》(www.toutiao.com)是一款基于数据挖掘的推荐引擎产品，它为用户推荐有价值的、个性化的信息，提供连接人与信息的新型服务，是国内移动互联网领域成长最快的产品服务之一。\"/><link rel=\"stylesheet\" href=\"//s3b.pstatp.com/toutiao/static/css/page/index_node/index.8b48d1a4c3755dc87013acbbf1b28182.css\"/><script>!function(e){function t(a){if(o[a])return o[a].exports;var r=o[a]={exports:{},id:a,loaded:!1};return e[a].call(r.exports,r,r.exports,t),r.loaded=!0,r.exports}var a=window.webpackJsonp;window.webpackJsonp=function(n,p){for(var c,s,l=0,i=[];l&lt;n.length;l++)s=n[l],r[s]&amp;&amp;i.push.apply(i,r[s]),r[s]=0;for(c in p)Object.prototype.hasOwnProperty.call(p,c)&amp;&amp;(e[c]=p[c]);for(a&amp;&amp;a(n,p);i.length;)i.shift().call(null,t);if(p[0])return o[0]=0,t(0)};var o={},r={0:0};t.e=function(e,a){if(0===r[e])return a.call(null,t);if(void 0!==r[e])r[e].push(a);else{r[e]=[a];var o=document.getElementsByTagName(\"head\")[0],n=document.createElement(\"script\");n.type=\"text/javascript\",n.charset=\"utf-8\",n.async=!0,n.src=t.p+\"static/js/\"+e+\".\"+{1:\"134e79204c8c9a21bd21\",2:\"e76f6b7b1e776eb200fe\",3:\"796b82f14773cdf88a19\",4:\"80a93b04852050a9996f\"}[e]+\".js\",o.appendChild(n)}},t.m=e,t.c=o,t.p=\"/toutiao/\",t.p=\"//s3.pstatp.com/toutiao/\"}([]);</script></head><body><div id=\"app\"/><script src=\"//s3.pstatp.com/inapp/lib/raven.js\" crossorigin=\"anonymous\"/><script>;(function(window) {\n",
      "    // sentry\n",
      "    window.Raven &amp;&amp; Raven.config('//key@m.toutiao.com/log/sentry/v2/96', {\n",
      "      whitelistUrls: [/pstatp\\.com/],\n",
      "      sampleRate: 1,\n",
      "      shouldSendCallback: function(data) {\n",
      "        var ua = navigator &amp;&amp; navigator.userAgent;\n",
      "        var isDeviceOK = !/Mobile|Linux/i.test(navigator.userAgent);\n",
      "        if (data.message &amp;&amp; data.message.indexOf('p.tanx.com') !== -1) {\n",
      "          return false;\n",
      "        }\n",
      "        return isDeviceOK;\n",
      "      },\n",
      "      tags: {\n",
      "        bid: 'toutiao_pc',\n",
      "        pid: 'image_detail_new'\n",
      "      },\n",
      "      autoBreadcrumbs: {\n",
      "        'xhr': false,\n",
      "        'console': true,\n",
      "        'dom': true,\n",
      "        'location': true\n",
      "      }\n",
      "    }).install();\n",
      "  })(window);</script><script>var PAGE_SWITCH = {\"adScriptQihu\":true,\"adScriptTB\":true,\"anti_spam\":false,\"migScriptUrl\":\"//s3a.pstatp.com/toutiao/picc_mig/dist/img.min.js\",\"nineteen\":\"\",\"picVersion\":\"20180412_01\",\"qihuAdShow\":true,\"taVersion\":\"20171221_1\",\"ttAdShow\":true};</script><script>var BASE_DATA = {\n",
      "    headerInfo: {\n",
      "      id: 0,\n",
      "      isPgc: false,\n",
      "      userName: '',\n",
      "      avatarUrl: '',\n",
      "      isHomePage: false,\n",
      "      chineseTag: '图片',\n",
      "      crumbTag: 'ch/news_image/',\n",
      "      hasBar: true\n",
      "    },\n",
      "    mediaInfo: {\n",
      "      name: '',\n",
      "      avatarUrl: '',\n",
      "      openUrl: '',\n",
      "      user_id: '0',\n",
      "      like: false\n",
      "    },\n",
      "    userInfo: {\n",
      "      id: 0,\n",
      "      name: '',\n",
      "      avatarUrl: '',\n",
      "      isPgc: false,\n",
      "      isOwner: false\n",
      "    },\n",
      "    commentInfo: {\n",
      "      group_id: '6299228208501096706',\n",
      "      item_id: '6298685250348253697',\n",
      "      comments_count: 33,\n",
      "      ban_comment: 0\n",
      "    }\n",
      "  }\n",
      "\n",
      "  BASE_DATA.galleryInfo = {\n",
      "    title: '荷香-古装美女',\n",
      "    isOriginal: false,\n",
      "    mediaInfo: BASE_DATA.mediaInfo,\n",
      "    gallery: JSON.parse(\"{\\\"count\\\":17,\\\"sub_images\\\":[{\\\"url\\\":\\\"http:\\\\/\\\\/p1.pstatp.com\\\\/origin\\\\/7fd00081250ad3c32da\\\",\\\"width\\\":682,\\\"url_list\\\":[{\\\"url\\\":\\\"http:\\\\/\\\\/p1.pstatp.com\\\\/origin\\\\/7fd00081250ad3c32da\\\"},{\\\"url\\\":\\\"http:\\\\/\\\\/pb3.pstatp.com\\\\/origin\\\\/7fd00081250ad3c32da\\\"},{\\\"url\\\":\\\"http:\\\\/\\\\/pb9.pstatp.com\\\\/origin\\\\/7fd00081250ad3c32da\\\"}],\\\"uri\\\":\\\"origin\\\\/7fd00081250ad3c32da\\\",\\\"height\\\":1024},{\\\"url\\\":\\\"http:\\\\/\\\\/p9.pstatp.com\\\\/origin\\\\/7fa00080dd59ae8e200\\\",\\\"width\\\":500,\\\"url_list\\\":[{\\\"url\\\":\\\"http:\\\\/\\\\/p9.pstatp.com\\\\/origin\\\\/7fa00080dd59ae8e200\\\"},{\\\"url\\\":\\\"http:\\\\/\\\\/pb1.pstatp.com\\\\/origin\\\\/7fa00080dd59ae8e200\\\"},{\\\"url\\\":\\\"http:\\\\/\\\\/pb3.pstatp.com\\\\/origin\\\\/7fa00080dd59ae8e200\\\"}],\\\"uri\\\":\\\"origin\\\\/7fa00080dd59ae8e200\\\",\\\"height\\\":750},{\\\"url\\\":\\\"http:\\\\/\\\\/p1.pstatp.com\\\\/origin\\\\/7fa00080dd743c490a5\\\",\\\"width\\\":500,\\\"url_list\\\":[{\\\"url\\\":\\\"http:\\\\/\\\\/p1.pstatp.com\\\\/origin\\\\/7fa00080dd743c490a5\\\"},{\\\"url\\\":\\\"http:\\\\/\\\\/pb3.pstatp.com\\\\/origin\\\\/7fa00080dd743c490a5\\\"},{\\\"url\\\":\\\"http:\\\\/\\\\/pb9.pstatp.com\\\\/origin\\\\/7fa00080dd743c490a5\\\"}],\\\"uri\\\":\\\"origin\\\\/7fa00080dd743c490a5\\\",\\\"height\\\":750},{\\\"url\\\":\\\"http:\\\\/\\\\/p1.pstatp.com\\\\/origin\\\\/7fc0008132f5bb01b0e\\\",\\\"width\\\":750,\\\"url_list\\\":[{\\\"url\\\":\\\"http:\\\\/\\\\/p1.pstatp.com\\\\/origin\\\\/7fc0008132f5bb01b0e\\\"},{\\\"url\\\":\\\"http:\\\\/\\\\/pb3.pstatp.com\\\\/origin\\\\/7fc0008132f5bb01b0e\\\"},{\\\"url\\\":\\\"http:\\\\/\\\\/pb9.pstatp.com\\\\/origin\\\\/7fc0008132f5bb01b0e\\\"}],\\\"uri\\\":\\\"origin\\\\/7fc0008132f5bb01b0e\\\",\\\"height\\\":500},{\\\"url\\\":\\\"http:\\\\/\\\\/p1.pstatp.com\\\\/origin\\\\/7fb000811bf709ad68f\\\",\\\"width\\\":500,\\\"url_list\\\":[{\\\"url\\\":\\\"http:\\\\/\\\\/p1.pstatp.com\\\\/origin\\\\/7fb000811bf709ad68f\\\"},{\\\"url\\\":\\\"http:\\\\/\\\\/pb3.pstatp.com\\\\/origin\\\\/7fb000811bf709ad68f\\\"},{\\\"url\\\":\\\"http:\\\\/\\\\/pb9.pstatp.com\\\\/origin\\\\/7fb000811bf709ad68f\\\"}],\\\"uri\\\":\\\"origin\\\\/7fb000811bf709ad68f\\\",\\\"height\\\":750},{\\\"url\\\":\\\"http:\\\\/\\\\/p1.pstatp.com\\\\/origin\\\\/7f900080def8dc8876f\\\",\\\"width\\\":750,\\\"url_list\\\":[{\\\"url\\\":\\\"http:\\\\/\\\\/p1.pstatp.com\\\\/origin\\\\/7f900080def8dc8876f\\\"},{\\\"url\\\":\\\"http:\\\\/\\\\/pb3.pstatp.com\\\\/origin\\\\/7f900080def8dc8876f\\\"},{\\\"url\\\":\\\"http:\\\\/\\\\/pb9.pstatp.com\\\\/origin\\\\/7f900080def8dc8876f\\\"}],\\\"uri\\\":\\\"origin\\\\/7f900080def8dc8876f\\\",\\\"height\\\":382},{\\\"url\\\":\\\"http:\\\\/\\\\/p3.pstatp.com\\\\/origin\\\\/7fc00081333860334c4\\\",\\\"width\\\":500,\\\"url_list\\\":[{\\\"url\\\":\\\"http:\\\\/\\\\/p3.pstatp.com\\\\/origin\\\\/7fc00081333860334c4\\\"},{\\\"url\\\":\\\"http:\\\\/\\\\/pb9.pstatp.com\\\\/origin\\\\/7fc00081333860334c4\\\"},{\\\"url\\\":\\\"http:\\\\/\\\\/pb1.pstatp.com\\\\/origin\\\\/7fc00081333860334c4\\\"}],\\\"uri\\\":\\\"origin\\\\/7fc00081333860334c4\\\",\\\"height\\\":750},{\\\"url\\\":\\\"http:\\\\/\\\\/p3.pstatp.com\\\\/origin\\\\/7f900080df04088ecaa\\\",\\\"width\\\":500,\\\"url_list\\\":[{\\\"url\\\":\\\"http:\\\\/\\\\/p3.pstatp.com\\\\/origin\\\\/7f900080df04088ecaa\\\"},{\\\"url\\\":\\\"http:\\\\/\\\\/pb9.pstatp.com\\\\/origin\\\\/7f900080df04088ecaa\\\"},{\\\"url\\\":\\\"http:\\\\/\\\\/pb1.pstatp.com\\\\/origin\\\\/7f900080df04088ecaa\\\"}],\\\"uri\\\":\\\"origin\\\\/7f900080df04088ecaa\\\",\\\"height\\\":750},{\\\"url\\\":\\\"http:\\\\/\\\\/p1.pstatp.com\\\\/origin\\\\/7fb000811c28a04fff1\\\",\\\"width\\\":500,\\\"url_list\\\":[{\\\"url\\\":\\\"http:\\\\/\\\\/p1.pstatp.com\\\\/origin\\\\/7fb000811c28a04fff1\\\"},{\\\"url\\\":\\\"http:\\\\/\\\\/pb3.pstatp.com\\\\/origin\\\\/7fb000811c28a04fff1\\\"},{\\\"url\\\":\\\"http:\\\\/\\\\/pb9.pstatp.com\\\\/origin\\\\/7fb000811c28a04fff1\\\"}],\\\"uri\\\":\\\"origin\\\\/7fb000811c28a04fff1\\\",\\\"height\\\":750},{\\\"url\\\":\\\"http:\\\\/\\\\/p1.pstatp.com\\\\/origin\\\\/7fd000812543c5cf2d5\\\",\\\"width\\\":500,\\\"url_list\\\":[{\\\"url\\\":\\\"http:\\\\/\\\\/p1.pstatp.com\\\\/origin\\\\/7fd000812543c5cf2d5\\\"},{\\\"url\\\":\\\"http:\\\\/\\\\/pb3.pstatp.com\\\\/origin\\\\/7fd000812543c5cf2d5\\\"},{\\\"url\\\":\\\"http:\\\\/\\\\/pb9.pstatp.com\\\\/origin\\\\/7fd000812543c5cf2d5\\\"}],\\\"uri\\\":\\\"origin\\\\/7fd000812543c5cf2d5\\\",\\\"height\\\":750},{\\\"url\\\":\\\"http:\\\\/\\\\/p9.pstatp.com\\\\/origin\\\\/7fa00080dde27dec44f\\\",\\\"width\\\":500,\\\"url_list\\\":[{\\\"url\\\":\\\"http:\\\\/\\\\/p9.pstatp.com\\\\/origin\\\\/7fa00080dde27dec44f\\\"},{\\\"url\\\":\\\"http:\\\\/\\\\/pb1.pstatp.com\\\\/origin\\\\/7fa00080dde27dec44f\\\"},{\\\"url\\\":\\\"http:\\\\/\\\\/pb3.pstatp.com\\\\/origin\\\\/7fa00080dde27dec44f\\\"}],\\\"uri\\\":\\\"origin\\\\/7fa00080dde27dec44f\\\",\\\"height\\\":750},{\\\"url\\\":\\\"http:\\\\/\\\\/p1.pstatp.com\\\\/origin\\\\/7fa00080ddf5efd45b8\\\",\\\"width\\\":500,\\\"url_list\\\":[{\\\"url\\\":\\\"http:\\\\/\\\\/p1.pstatp.com\\\\/origin\\\\/7fa00080ddf5efd45b8\\\"},{\\\"url\\\":\\\"http:\\\\/\\\\/pb3.pstatp.com\\\\/origin\\\\/7fa00080ddf5efd45b8\\\"},{\\\"url\\\":\\\"http:\\\\/\\\\/pb9.pstatp.com\\\\/origin\\\\/7fa00080ddf5efd45b8\\\"}],\\\"uri\\\":\\\"origin\\\\/7fa00080ddf5efd45b8\\\",\\\"height\\\":750},{\\\"url\\\":\\\"http:\\\\/\\\\/p1.pstatp.com\\\\/origin\\\\/7f900080df2ebf54c8a\\\",\\\"width\\\":750,\\\"url_list\\\":[{\\\"url\\\":\\\"http:\\\\/\\\\/p1.pstatp.com\\\\/origin\\\\/7f900080df2ebf54c8a\\\"},{\\\"url\\\":\\\"http:\\\\/\\\\/pb3.pstatp.com\\\\/origin\\\\/7f900080df2ebf54c8a\\\"},{\\\"url\\\":\\\"http:\\\\/\\\\/pb9.pstatp.com\\\\/origin\\\\/7f900080df2ebf54c8a\\\"}],\\\"uri\\\":\\\"origin\\\\/7f900080df2ebf54c8a\\\",\\\"height\\\":500},{\\\"url\\\":\\\"http:\\\\/\\\\/p1.pstatp.com\\\\/origin\\\\/7fd0008125677a49192\\\",\\\"width\\\":500,\\\"url_list\\\":[{\\\"url\\\":\\\"http:\\\\/\\\\/p1.pstatp.com\\\\/origin\\\\/7fd0008125677a49192\\\"},{\\\"url\\\":\\\"http:\\\\/\\\\/pb3.pstatp.com\\\\/origin\\\\/7fd0008125677a49192\\\"},{\\\"url\\\":\\\"http:\\\\/\\\\/pb9.pstatp.com\\\\/origin\\\\/7fd0008125677a49192\\\"}],\\\"uri\\\":\\\"origin\\\\/7fd0008125677a49192\\\",\\\"height\\\":750},{\\\"url\\\":\\\"http:\\\\/\\\\/p1.pstatp.com\\\\/origin\\\\/7fc00081334371a3a54\\\",\\\"width\\\":750,\\\"url_list\\\":[{\\\"url\\\":\\\"http:\\\\/\\\\/p1.pstatp.com\\\\/origin\\\\/7fc00081334371a3a54\\\"},{\\\"url\\\":\\\"http:\\\\/\\\\/pb3.pstatp.com\\\\/origin\\\\/7fc00081334371a3a54\\\"},{\\\"url\\\":\\\"http:\\\\/\\\\/pb9.pstatp.com\\\\/origin\\\\/7fc00081334371a3a54\\\"}],\\\"uri\\\":\\\"origin\\\\/7fc00081334371a3a54\\\",\\\"height\\\":500},{\\\"url\\\":\\\"http:\\\\/\\\\/p9.pstatp.com\\\\/origin\\\\/7fa00080de2576387bb\\\",\\\"width\\\":750,\\\"url_list\\\":[{\\\"url\\\":\\\"http:\\\\/\\\\/p9.pstatp.com\\\\/origin\\\\/7fa00080de2576387bb\\\"},{\\\"url\\\":\\\"http:\\\\/\\\\/pb1.pstatp.com\\\\/origin\\\\/7fa00080de2576387bb\\\"},{\\\"url\\\":\\\"http:\\\\/\\\\/pb3.pstatp.com\\\\/origin\\\\/7fa00080de2576387bb\\\"}],\\\"uri\\\":\\\"origin\\\\/7fa00080de2576387bb\\\",\\\"height\\\":500},{\\\"url\\\":\\\"http:\\\\/\\\\/p9.pstatp.com\\\\/origin\\\\/7fa00080de34f2ee6f0\\\",\\\"width\\\":750,\\\"url_list\\\":[{\\\"url\\\":\\\"http:\\\\/\\\\/p9.pstatp.com\\\\/origin\\\\/7fa00080de34f2ee6f0\\\"},{\\\"url\\\":\\\"http:\\\\/\\\\/pb1.pstatp.com\\\\/origin\\\\/7fa00080de34f2ee6f0\\\"},{\\\"url\\\":\\\"http:\\\\/\\\\/pb3.pstatp.com\\\\/origin\\\\/7fa00080de34f2ee6f0\\\"}],\\\"uri\\\":\\\"origin\\\\/7fa00080de34f2ee6f0\\\",\\\"height\\\":500}],\\\"max_img_width\\\":750,\\\"labels\\\":[\\\"\\\\u7f8e\\\\u5973\\\"],\\\"sub_abstracts\\\":[\\\" \\\",\\\" \\\",\\\" \\\",\\\" \\\",\\\" \\\",\\\" \\\",\\\" \\\",\\\" \\\",\\\" \\\",\\\" \\\",\\\" \\\",\\\" \\\",\\\" \\\",\\\" \\\",\\\" \\\",\\\" \\\",\\\" \\\"],\\\"sub_titles\\\":[\\\"\\\\u8377\\\\u9999-\\\\u53e4\\\\u88c5\\\\u7f8e\\\\u5973\\\",\\\"\\\\u8377\\\\u9999-\\\\u53e4\\\\u88c5\\\\u7f8e\\\\u5973\\\",\\\"\\\\u8377\\\\u9999-\\\\u53e4\\\\u88c5\\\\u7f8e\\\\u5973\\\",\\\"\\\\u8377\\\\u9999-\\\\u53e4\\\\u88c5\\\\u7f8e\\\\u5973\\\",\\\"\\\\u8377\\\\u9999-\\\\u53e4\\\\u88c5\\\\u7f8e\\\\u5973\\\",\\\"\\\\u8377\\\\u9999-\\\\u53e4\\\\u88c5\\\\u7f8e\\\\u5973\\\",\\\"\\\\u8377\\\\u9999-\\\\u53e4\\\\u88c5\\\\u7f8e\\\\u5973\\\",\\\"\\\\u8377\\\\u9999-\\\\u53e4\\\\u88c5\\\\u7f8e\\\\u5973\\\",\\\"\\\\u8377\\\\u9999-\\\\u53e4\\\\u88c5\\\\u7f8e\\\\u5973\\\",\\\"\\\\u8377\\\\u9999-\\\\u53e4\\\\u88c5\\\\u7f8e\\\\u5973\\\",\\\"\\\\u8377\\\\u9999-\\\\u53e4\\\\u88c5\\\\u7f8e\\\\u5973\\\",\\\"\\\\u8377\\\\u9999-\\\\u53e4\\\\u88c5\\\\u7f8e\\\\u5973\\\",\\\"\\\\u8377\\\\u9999-\\\\u53e4\\\\u88c5\\\\u7f8e\\\\u5973\\\",\\\"\\\\u8377\\\\u9999-\\\\u53e4\\\\u88c5\\\\u7f8e\\\\u5973\\\",\\\"\\\\u8377\\\\u9999-\\\\u53e4\\\\u88c5\\\\u7f8e\\\\u5973\\\",\\\"\\\\u8377\\\\u9999-\\\\u53e4\\\\u88c5\\\\u7f8e\\\\u5973\\\",\\\"\\\\u8377\\\\u9999-\\\\u53e4\\\\u88c5\\\\u7f8e\\\\u5973\\\"]}\"),\n",
      "    siblingList: [],\n",
      "    publish_time: '2016-06-23 11:58:47',\n",
      "    group_id: '6299228208501096706',\n",
      "    item_id: '6298685250348253697',\n",
      "    share_url: 'https://m.toutiao.com/group/6299228208501096706/',\n",
      "    abstract: ''.replace(/&lt;br \\/&gt;/ig, ''),\n",
      "    repin: 0\n",
      "  }</script><script>var imgUrl = '/c/sbc57dd1k5pzb2t7epmnpdmb6sd26a2qq60yutzt740v7w74z8ukabr71yio/'</script><script>tac='i)6a0lj2w09s!i#sq7s\"0,&lt;8~z|\\x7f@QGNCJF[\\\\^D\\\\KFYSk~^WSZhg,(lfi~ah`{md\"inb|1d&lt;,%Dscafgd\"in,8[xtm}nLzNEGQMKAdGG^NTY\\x1ckgd\"inb&lt;b|1d&lt;g,&amp;TboLr{m,(\\x02)!jx-2n&amp;vr$testxg,%@tug{mn ,%vrfkbm[!cb|'</script><script type=\"text/javascript\" crossorigin=\"anonymous\" src=\"//s3a.pstatp.com/toutiao/static/js/vendor.134e79204c8c9a21bd21.js\"/><script type=\"text/javascript\" crossorigin=\"anonymous\" src=\"//s3b.pstatp.com/toutiao/static/js/page/index_node/index.e76f6b7b1e776eb200fe.js\"/><script type=\"text/javascript\" crossorigin=\"anonymous\" src=\"//s3.pstatp.com/toutiao/static/js/ttstatistics.80a93b04852050a9996f.js\"/><style>a[href*='//www.cnzz.com/stat'] {\n",
      "      display: none!important;\n",
      "  }</style><script src=\"//s95.cnzz.com/z_stat.php?id=1259612802&amp;web_id=1259612802\" language=\"JavaScript\"/><script>if (window.ttAnalysis) {\n",
      "    ttAnalysis.setup({\n",
      "      c: 'detail_gallery'\n",
      "    });\n",
      "    ttAnalysis.send('pageview', {});\n",
      "  }</script><script>document.getElementsByTagName('body')[0].addEventListener('click', function(e) {\n",
      "    var target = e.target,\n",
      "        ga_event,\n",
      "        ga_category,\n",
      "        ga_label,\n",
      "        ga_value;\n",
      "    while(target &amp;&amp; target.nodeName.toUpperCase() !== 'BODY') {\n",
      "      ga_event = target.getAttribute('ga_event');\n",
      "      ga_category = target.getAttribute('ga_category') || 'detail_gallery';\n",
      "      ga_label = target.getAttribute('ga_label') || '';\n",
      "      ga_value = target.getAttribute('ga_value') || 1;\n",
      "      ga_event &amp;&amp; window._czc &amp;&amp; _czc.push(﻿[\"_trackEvent\", ga_category, ga_event, ga_label, ga_value]);\n",
      "      ga_event &amp;&amp; window.ttAnalysis &amp;&amp; ttAnalysis.send('event', { ev: ga_event });\n",
      "      target = target.parentNode;\n",
      "    }\n",
      "});</script></body></html>\n"
     ]
    }
   ],
   "source": [
    "result = etree.tostring(html,encoding='utf-8')\n",
    "# utf-8 格式输出\n",
    "print(result.decode('utf8'))"
   ]
  },
  {
   "cell_type": "code",
   "execution_count": 10,
   "metadata": {
    "ExecuteTime": {
     "end_time": "2019-04-08T00:04:15.755288Z",
     "start_time": "2019-04-08T00:04:15.746360Z"
    }
   },
   "outputs": [
    {
     "data": {
      "text/plain": [
       "'荷香-古装美女'"
      ]
     },
     "execution_count": 10,
     "metadata": {},
     "output_type": "execute_result"
    }
   ],
   "source": [
    "html.xpath('//head/title')[0].text"
   ]
  },
  {
   "cell_type": "code",
   "execution_count": 11,
   "metadata": {
    "ExecuteTime": {
     "end_time": "2019-04-08T00:04:15.762756Z",
     "start_time": "2019-04-08T00:04:15.758292Z"
    }
   },
   "outputs": [
    {
     "data": {
      "text/plain": [
       "[]"
      ]
     },
     "execution_count": 11,
     "metadata": {},
     "output_type": "execute_result"
    }
   ],
   "source": [
    "html.xpath('//li[@class=\"image-item\"]')"
   ]
  },
  {
   "cell_type": "code",
   "execution_count": 1,
   "metadata": {
    "ExecuteTime": {
     "end_time": "2019-04-08T00:17:17.682278Z",
     "start_time": "2019-04-08T00:17:17.511158Z"
    },
    "scrolled": false
   },
   "outputs": [
    {
     "ename": "NameError",
     "evalue": "name 'QWebPage' is not defined",
     "output_type": "error",
     "traceback": [
      "\u001b[1;31m---------------------------------------------------------------------------\u001b[0m",
      "\u001b[1;31mNameError\u001b[0m                                 Traceback (most recent call last)",
      "\u001b[1;32m<ipython-input-1-45db588fd9c1>\u001b[0m in \u001b[0;36m<module>\u001b[1;34m()\u001b[0m\n\u001b[0;32m      5\u001b[0m \u001b[1;33m\u001b[0m\u001b[0m\n\u001b[0;32m      6\u001b[0m \u001b[1;31m#use QtWebkit to get the final webpage\u001b[0m\u001b[1;33m\u001b[0m\u001b[1;33m\u001b[0m\u001b[0m\n\u001b[1;32m----> 7\u001b[1;33m \u001b[1;32mclass\u001b[0m \u001b[0mWebRender\u001b[0m\u001b[1;33m(\u001b[0m\u001b[0mQWebPage\u001b[0m\u001b[1;33m)\u001b[0m\u001b[1;33m:\u001b[0m\u001b[1;33m\u001b[0m\u001b[0m\n\u001b[0m\u001b[0;32m      8\u001b[0m     \u001b[1;32mdef\u001b[0m \u001b[0m__init__\u001b[0m\u001b[1;33m(\u001b[0m\u001b[0mself\u001b[0m\u001b[1;33m,\u001b[0m \u001b[0murl\u001b[0m\u001b[1;33m)\u001b[0m\u001b[1;33m:\u001b[0m\u001b[1;33m\u001b[0m\u001b[0m\n\u001b[0;32m      9\u001b[0m         \u001b[0mself\u001b[0m\u001b[1;33m.\u001b[0m\u001b[0mapp\u001b[0m \u001b[1;33m=\u001b[0m \u001b[0mQApplication\u001b[0m\u001b[1;33m(\u001b[0m\u001b[0msys\u001b[0m\u001b[1;33m.\u001b[0m\u001b[0margv\u001b[0m\u001b[1;33m)\u001b[0m\u001b[1;33m\u001b[0m\u001b[0m\n",
      "\u001b[1;31mNameError\u001b[0m: name 'QWebPage' is not defined"
     ]
    }
   ],
   "source": [
    "from lxml import etree\n",
    "import sys\n",
    "from PyQt5.QtWidgets import *\n",
    "from PyQt5.QtCore import *\n",
    "from PyQt5.QtWebEngineWidgets import *\n",
    "\n",
    "#use QtWebkit to get the final webpage\n",
    "class WebRender(QWebPage):\n",
    "    def __init__(self, url):\n",
    "        self.app = QApplication(sys.argv)\n",
    "        QWebPage.__init__(self)\n",
    "        self.loadFinished.connect(self.__loadFinished)\n",
    "        self.mainFrame().load(QUrl(url))\n",
    "        self.app.exec_()\n",
    "\n",
    "    def __loadFinished(self, result):\n",
    "        self.frame = self.mainFrame()\n",
    "        self.app.quit()\n",
    "\n",
    "\n",
    "url = 'https://www.toutiao.com/a6299228208501096706'     \n",
    "r = WebRender(url)\n",
    "html = r.frame.toHtml()\n",
    "page = etree.HTML(html.encode('utf-8'))\n",
    "\n"
   ]
  },
  {
   "cell_type": "code",
   "execution_count": null,
   "metadata": {
    "ExecuteTime": {
     "end_time": "2019-04-08T00:04:17.019172Z",
     "start_time": "2019-04-08T00:04:13.767Z"
    }
   },
   "outputs": [],
   "source": [
    "page.xpath('//li[@class=\"image-item\"]/div/a/@href')[0]"
   ]
  },
  {
   "cell_type": "code",
   "execution_count": null,
   "metadata": {
    "ExecuteTime": {
     "start_time": "2019-04-08T00:46:32.131Z"
    }
   },
   "outputs": [],
   "source": [
    "import sys\n",
    "from PyQt5.QtCore import QUrl\n",
    "from PyQt5.QtWidgets import QApplication\n",
    "from PyQt5.QtWebEngineWidgets import QWebEnginePage, QWebEngineView\n",
    "from lxml import etree\n",
    "\n",
    "class Render(QWebEngineView):               # 子类Render继承父类QWebEngineView\n",
    "    def __init__(self, url):\n",
    "        self.html = ''\n",
    "        self.app = QApplication(sys.argv)\n",
    "        QWebEngineView.__init__(self)       # 子类构造函数继承父类，这种写法python2和3通用，还可以是super().__init__()\n",
    "        self.loadFinished.connect(self._loadFinished)\n",
    "        self.load(QUrl(url))\n",
    "        self.app.exec_()\n",
    "\n",
    "    def _loadFinished(self):\n",
    "        self.page().toHtml(self.callable)\n",
    "\n",
    "    def callable(self, data):\n",
    "        self.html = data\n",
    "        self.app.quit()\n",
    "\n",
    "\n",
    "if __name__ == '__main__':\n",
    "    url = 'https://www.toutiao.com/a6299228208501096706'\n",
    "\n",
    "    r = Render(url)\n",
    "    result = r.html\n",
    "    page = etree.HTML(result.encode('utf-8'))\n",
    "    print(page.xpath('//li[@class=\"image-item\"]/div/a/@href')[0])\n",
    "    \n",
    "    html_ = etree.tostring(page,encoding='utf-8')\n",
    "#     # utf-8 格式输出\n",
    "#     print(html_.decode('utf-8'))\n"
   ]
  },
  {
   "cell_type": "code",
   "execution_count": null,
   "metadata": {},
   "outputs": [],
   "source": [
    "    print(html_.decode('utf-8'))"
   ]
  }
 ],
 "metadata": {
  "hide_input": false,
  "kernelspec": {
   "display_name": "Python 3",
   "language": "python",
   "name": "python3"
  },
  "language_info": {
   "codemirror_mode": {
    "name": "ipython",
    "version": 3
   },
   "file_extension": ".py",
   "mimetype": "text/x-python",
   "name": "python",
   "nbconvert_exporter": "python",
   "pygments_lexer": "ipython3",
   "version": "3.7.0"
  },
  "toc": {
   "base_numbering": 1,
   "nav_menu": {},
   "number_sections": true,
   "sideBar": true,
   "skip_h1_title": false,
   "title_cell": "Table of Contents",
   "title_sidebar": "Contents",
   "toc_cell": false,
   "toc_position": {},
   "toc_section_display": true,
   "toc_window_display": false
  },
  "varInspector": {
   "cols": {
    "lenName": 16,
    "lenType": 16,
    "lenVar": 40
   },
   "kernels_config": {
    "python": {
     "delete_cmd_postfix": "",
     "delete_cmd_prefix": "del ",
     "library": "var_list.py",
     "varRefreshCmd": "print(var_dic_list())"
    },
    "r": {
     "delete_cmd_postfix": ") ",
     "delete_cmd_prefix": "rm(",
     "library": "var_list.r",
     "varRefreshCmd": "cat(var_dic_list()) "
    }
   },
   "types_to_exclude": [
    "module",
    "function",
    "builtin_function_or_method",
    "instance",
    "_Feature"
   ],
   "window_display": false
  }
 },
 "nbformat": 4,
 "nbformat_minor": 2
}
